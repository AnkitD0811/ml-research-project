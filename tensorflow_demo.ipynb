{
 "cells": [
  {
   "cell_type": "markdown",
   "id": "15ea9941-7ff9-4d7c-bb5e-e0be9f93fe12",
   "metadata": {
    "jp-MarkdownHeadingCollapsed": true
   },
   "source": [
    "# Tensorflow Demo"
   ]
  },
  {
   "cell_type": "markdown",
   "id": "b85e953c-cbb1-4feb-9dce-f3fb29124307",
   "metadata": {
    "editable": true,
    "slideshow": {
     "slide_type": ""
    },
    "tags": []
   },
   "source": [
    "## How Tensorflow Works\n",
    "\n",
    "It is comprised of 2 main parts:\n",
    "1. Graphs\n",
    "2. Sessions\n",
    "\n",
    "A TensorFlow graph is a representation of computations structured as a directed graph. Nodes in the graph represent operations, which are units of computation, and edges represent the flow of tensors, which are the data that moves between operations. Graphs define the structure of the computation but do not execute it.\n",
    "\n",
    "A TensorFlow session provides an environment for executing the operations defined in a graph. It allocates resources, such as memory, and manages the execution order of operations. To execute a graph, it needs to be launched within a session. Sessions allow for the evaluation of tensors and the execution of operations, producing results. It allows the user to execute a part of the graph or the entire graph depending on the requirement.\n",
    "\n",
    "Tensorflow 2.x uses eager mode execution by default, which is explained later."
   ]
  },
  {
   "cell_type": "code",
   "execution_count": 1,
   "id": "dba0ce24-ccbf-4692-832e-2ba1cd85c169",
   "metadata": {},
   "outputs": [
    {
     "name": "stderr",
     "output_type": "stream",
     "text": [
      "2025-05-21 10:57:49.534521: E external/local_xla/xla/stream_executor/cuda/cuda_fft.cc:467] Unable to register cuFFT factory: Attempting to register factory for plugin cuFFT when one has already been registered\n",
      "WARNING: All log messages before absl::InitializeLog() is called are written to STDERR\n",
      "E0000 00:00:1747805270.010091   84231 cuda_dnn.cc:8579] Unable to register cuDNN factory: Attempting to register factory for plugin cuDNN when one has already been registered\n",
      "E0000 00:00:1747805270.152696   84231 cuda_blas.cc:1407] Unable to register cuBLAS factory: Attempting to register factory for plugin cuBLAS when one has already been registered\n",
      "W0000 00:00:1747805271.406337   84231 computation_placer.cc:177] computation placer already registered. Please check linkage and avoid linking the same target more than once.\n",
      "W0000 00:00:1747805271.406363   84231 computation_placer.cc:177] computation placer already registered. Please check linkage and avoid linking the same target more than once.\n",
      "W0000 00:00:1747805271.406365   84231 computation_placer.cc:177] computation placer already registered. Please check linkage and avoid linking the same target more than once.\n",
      "W0000 00:00:1747805271.406367   84231 computation_placer.cc:177] computation placer already registered. Please check linkage and avoid linking the same target more than once.\n",
      "2025-05-21 10:57:51.532348: I tensorflow/core/platform/cpu_feature_guard.cc:210] This TensorFlow binary is optimized to use available CPU instructions in performance-critical operations.\n",
      "To enable the following instructions: AVX2 FMA, in other operations, rebuild TensorFlow with the appropriate compiler flags.\n"
     ]
    },
    {
     "data": {
      "text/plain": [
       "<module 'tensorflow._api.v2.version' from '/home/ankit/Work/Projects/ml-research-project/tf/lib/python3.11/site-packages/tensorflow/_api/v2/version/__init__.py'>"
      ]
     },
     "execution_count": 1,
     "metadata": {},
     "output_type": "execute_result"
    }
   ],
   "source": [
    "# Importing tensorflow\n",
    "\n",
    "import tensorflow as tf\n",
    "tf.version"
   ]
  },
  {
   "cell_type": "markdown",
   "id": "bd263a3d-9215-4cbe-b428-a7b9915a34b4",
   "metadata": {},
   "source": [
    "## Tensors"
   ]
  },
  {
   "cell_type": "markdown",
   "id": "e84d2d5b-15d7-44a8-8ae8-f4d74f0b223c",
   "metadata": {},
   "source": [
    "\"A tensor is a generalization of vectors and matrices to potentially higher dimensions. Internally, TensorFlow represents tensors as n-dimensional arrays of base datatypes.\" \n",
    "\n",
    "Tensors are a fundemental apsect of TensorFlow. They are the main objects that are passed around and manipluated throughout the program. Each tensor represents a partialy defined computation that will eventually produce a value. TensorFlow programs work by building a graph of Tensor objects that details how tensors are related. Running different parts of the graph allow results to be generated.\n",
    "\n",
    "Each tensor has a data type and a shape. \n",
    "\n",
    "**Data Types Include**: float32, int32, string and others.\n",
    "\n",
    "**Shape**: Represents the dimension of data.\n",
    "\n",
    "Just like vectors and matrices tensors can have operations applied to them like addition, subtraction, dot product, cross product etc.\n",
    "\n",
    "Scalar -> 1 Value\n",
    "Vector -> Multiple Values"
   ]
  },
  {
   "cell_type": "code",
   "execution_count": 2,
   "id": "a585eee4-1f2e-4935-ab94-7dcadba5c024",
   "metadata": {},
   "outputs": [
    {
     "name": "stderr",
     "output_type": "stream",
     "text": [
      "I0000 00:00:1747805302.180160   84231 gpu_device.cc:2019] Created device /job:localhost/replica:0/task:0/device:GPU:0 with 2573 MB memory:  -> device: 0, name: NVIDIA GeForce GTX 1650, pci bus id: 0000:01:00.0, compute capability: 7.5\n"
     ]
    }
   ],
   "source": [
    "string = tf.Variable(\"Hello World\", tf.string)\n",
    "number = tf.Variable(10, tf.int32)\n",
    "floating = tf.Variable(3.141, tf.float64)"
   ]
  },
  {
   "cell_type": "markdown",
   "id": "032c5a56-ce06-40ee-916c-1b2b00b616ae",
   "metadata": {},
   "source": [
    "## Rank/Degree of a Tensor"
   ]
  },
  {
   "cell_type": "markdown",
   "id": "610b7e4c-8a6c-411b-a84e-439c900eaa50",
   "metadata": {},
   "source": [
    "Rank is basically the dimensions of a tensor.\n",
    "\n",
    "Rank 0 Tensor is a Scalar.\n",
    "Rank 1 Tensor is a Vector.\n",
    "Rank 2 Tensor is a Matrix."
   ]
  },
  {
   "cell_type": "code",
   "execution_count": 3,
   "id": "729b42d8-b87b-4584-aa1a-21253cdd2ca2",
   "metadata": {},
   "outputs": [
    {
     "data": {
      "text/plain": [
       "<tf.Tensor: shape=(), dtype=int32, numpy=0>"
      ]
     },
     "execution_count": 3,
     "metadata": {},
     "output_type": "execute_result"
    }
   ],
   "source": [
    "# To find rank of a tensor\n",
    "\n",
    "tf.rank(string)"
   ]
  },
  {
   "cell_type": "code",
   "execution_count": 4,
   "id": "fece5915-9380-4e2c-8371-437cb6e0c076",
   "metadata": {},
   "outputs": [
    {
     "name": "stdout",
     "output_type": "stream",
     "text": [
      "tf.Tensor(1, shape=(), dtype=int32)\n",
      "tf.Tensor(2, shape=(), dtype=int32)\n"
     ]
    }
   ],
   "source": [
    "# Creating rank 1 and rank 2 tensors\n",
    "r1 = tf.Variable([\"Hello\", \"World\"], tf.string)\n",
    "r2 = tf.Variable([[\"Hello\", \"World\"], [\"Tensorflow\", \"Demo\"]], tf.string)\n",
    "\n",
    "print(tf.rank(r1))\n",
    "print(tf.rank(r2))"
   ]
  },
  {
   "cell_type": "markdown",
   "id": "9706cf5a-c8a7-4162-869f-fccb5e3158de",
   "metadata": {},
   "source": [
    "## Shape of a Tensor\n",
    "\n",
    "Shape gives a row x column format specifying how many data items are there in a tensor"
   ]
  },
  {
   "cell_type": "code",
   "execution_count": 5,
   "id": "e1e09bb6-5231-4751-89a7-5fe3d73c5d5b",
   "metadata": {},
   "outputs": [
    {
     "name": "stdout",
     "output_type": "stream",
     "text": [
      "tf.Tensor([], shape=(0,), dtype=int32)\n",
      "tf.Tensor([2], shape=(1,), dtype=int32)\n",
      "tf.Tensor([2 2], shape=(2,), dtype=int32)\n"
     ]
    }
   ],
   "source": [
    "print(tf.shape(number))\n",
    "print(tf.shape(r1))\n",
    "print(tf.shape(r2))"
   ]
  },
  {
   "cell_type": "markdown",
   "id": "90805a86-fc64-4965-a9bd-66152acbb5d9",
   "metadata": {},
   "source": [
    "## Reshaping Tensors"
   ]
  },
  {
   "cell_type": "code",
   "execution_count": 6,
   "id": "55f6c339-b495-417f-8908-72e459f4432b",
   "metadata": {},
   "outputs": [
    {
     "name": "stdout",
     "output_type": "stream",
     "text": [
      "tf.Tensor(\n",
      "[[[1. 1. 1.]\n",
      "  [1. 1. 1.]]], shape=(1, 2, 3), dtype=float32)\n",
      "tf.Tensor(\n",
      "[[[1.]\n",
      "  [1.]\n",
      "  [1.]]\n",
      "\n",
      " [[1.]\n",
      "  [1.]\n",
      "  [1.]]], shape=(2, 3, 1), dtype=float32)\n",
      "tf.Tensor(\n",
      "[[1. 1.]\n",
      " [1. 1.]\n",
      " [1. 1.]], shape=(3, 2), dtype=float32)\n"
     ]
    }
   ],
   "source": [
    "# Creating a tensor of ones, can do the same with tf.zeros to create a tensor of zeros\n",
    "\n",
    "t1 = tf.ones([1, 2, 3])\n",
    "print(t1)\n",
    "\n",
    "# JUST MAKE SURE NUMBER OF ELEMENTS IN ORIGINAL TENSOR AND RESHAPED TENSOR IS SAME\n",
    "# TO DO THAT, MULTIPLY THE DIMENSIONS AND MAKE SURE ANSWER IS SAME FOR BOTH\n",
    "\n",
    "# Reshape to a 2,3,1 tensor\n",
    "t2 = tf.reshape(t1, [2, 3, 1])\n",
    "print(t2)\n",
    "\n",
    "# Reshape to a tensor of size 3, other dimensions to be detected automatically\n",
    "t3 = tf.reshape(t1, [3, -1])\n",
    "print(t3)"
   ]
  },
  {
   "cell_type": "markdown",
   "id": "13c5dc1a-c06b-4521-93ef-8f93c75482d9",
   "metadata": {},
   "source": [
    "### Slicing Tensors\n",
    "You may be familiar with the term \"slice\" in python and its use on lists, tuples etc. Well the slice operator can be used on tensors to select specific axes or elements.\n",
    "\n",
    "When we slice or select elements from a tensor, we can use comma seperated values inside the set of square brackets. Each subsequent value refrences a different dimension of the tensor.\n",
    "\n",
    "Ex: ```tensor[dim1, dim2, dim3]```"
   ]
  },
  {
   "cell_type": "code",
   "execution_count": 7,
   "id": "38c8069b-515b-464c-8f90-31f55c004f2e",
   "metadata": {},
   "outputs": [
    {
     "name": "stdout",
     "output_type": "stream",
     "text": [
      "tf.Tensor(2, shape=(), dtype=int32)\n",
      "(4, 5)\n",
      "tf.Tensor(3, shape=(), dtype=int32)\n",
      "tf.Tensor([1 2 3 4 5], shape=(5,), dtype=int32)\n",
      "tf.Tensor([ 1  6 11 16], shape=(4,), dtype=int32)\n",
      "tf.Tensor(\n",
      "[[ 6  7  8  9 10]\n",
      " [16 17 18 19 20]], shape=(2, 5), dtype=int32)\n",
      "tf.Tensor([ 6 11], shape=(2,), dtype=int32)\n"
     ]
    }
   ],
   "source": [
    "# Creating a 2D tensor\n",
    "matrix = [[1,2,3,4,5],\n",
    "          [6,7,8,9,10],\n",
    "          [11,12,13,14,15],\n",
    "          [16,17,18,19,20]]\n",
    "\n",
    "tensor = tf.Variable(matrix, dtype=tf.int32) \n",
    "print(tf.rank(tensor))\n",
    "print(tensor.shape)\n",
    "\n",
    "three = tensor[0,2]  # selects the 3rd element from the 1st row\n",
    "print(three)  # -> 3\n",
    "\n",
    "row1 = tensor[0]  # selects the first row\n",
    "print(row1)\n",
    "\n",
    "column1 = tensor[:, 0]  # selects the first column\n",
    "print(column1)\n",
    "\n",
    "row_2_and_4 = tensor[1::2]  # selects second and fourth row\n",
    "print(row_2_and_4)\n",
    "\n",
    "column_1_in_row_2_and_3 = tensor[1:3, 0]\n",
    "print(column_1_in_row_2_and_3)"
   ]
  },
  {
   "cell_type": "markdown",
   "id": "92b0c5d2-c969-4311-9456-c70f411ece31",
   "metadata": {},
   "source": [
    "## Types of Tensors\n",
    "\n",
    "Before we go to far, I will mention that there are diffent types of tensors. These are the most used and we will talk more in depth about each as they are used.\n",
    "\n",
    "    Variable: tf.Variable; Mutable\n",
    "    Constant: tf.constant; Immutable\n",
    "    Placeholder: tf.placeholder; largely used in tf 1.x, not anymore as tf 2.x executes in eager mode by deafult\n",
    "    SparseTensor: tf.sparse.SparseTensor; Used to store data with multitudes of zeroes/empty values in the data \n",
    "\n",
    "With the execption of Variable all these tensors are immuttable, meaning their value may not change during execution."
   ]
  },
  {
   "cell_type": "markdown",
   "id": "e0b3c172-8d25-4599-bcee-8de075026262",
   "metadata": {},
   "source": [
    "## Eager Execution\n",
    "\n",
    "TensorFlow's eager execution is an imperative programming environment that evaluates operations immediately without building graphs. Operations return concrete values instead of constructing a computational graph to run later. This makes it easy to get started with TensorFlow and debug models.\n",
    "\n",
    "With TensorFlow 2.x, Eager Execution is enabled by default. This allows TensorFlow code to be executed and evaluated line by line. Before version 2.x was released, Eager execution was disabled by default. This meant that every graph had to be run within a TensorFlow session. This only allowed for the entire graph to be run all at once and made it hard to debug the computation graph.\n",
    "\n",
    "Eager execution is a flexible machine learning platform for research and experimentation, which provides:\n",
    "\n",
    "- An intuitive interface - Structure your code naturally and use Python data structures. Quickly iterate on small models and small data.\n",
    "- Easier debugging - Execute operations directly to inspect code line by line and test changes. Use standard Python debugging tools for immediate error reporting.\n",
    "- Natural control flow — Use Python control flow instead of graph control flow, simplifying the specification of dynamic models.\n",
    "\n",
    "Eager execution is much easier to develop and debug code, while to get better efficiency, ability to run tensorflow code on distributed systems and systems with no python interpreters, Graph execution is better, as it makes a graph model that can be exported.\n",
    "\n",
    "Graph Execution is an example of lazy execution.\n",
    "\n",
    "So, **Develop in eager mode & then convert to Graph for deployment for the best results**."
   ]
  },
  {
   "cell_type": "markdown",
   "id": "46b3eac5-9df0-4498-8718-58e199c214a6",
   "metadata": {},
   "source": [
    "# Diabetes Dataset(Binary Classification)"
   ]
  },
  {
   "cell_type": "code",
   "execution_count": 8,
   "id": "8e1b77a9-8aee-4f93-9852-7742a7e8bf47",
   "metadata": {},
   "outputs": [],
   "source": [
    "# Importing required packages\n",
    "\n",
    "import numpy as np\n",
    "import pandas as pd\n",
    "import matplotlib.pyplot as plt\n",
    "import tensorflow as tf"
   ]
  },
  {
   "cell_type": "code",
   "execution_count": null,
   "id": "f4a1ae6f-5210-4b1c-8398-d28222d17c0a",
   "metadata": {},
   "outputs": [],
   "source": []
  }
 ],
 "metadata": {
  "kernelspec": {
   "display_name": "Python 3 (ipykernel)",
   "language": "python",
   "name": "python3"
  },
  "language_info": {
   "codemirror_mode": {
    "name": "ipython",
    "version": 3
   },
   "file_extension": ".py",
   "mimetype": "text/x-python",
   "name": "python",
   "nbconvert_exporter": "python",
   "pygments_lexer": "ipython3",
   "version": "3.11.9"
  }
 },
 "nbformat": 4,
 "nbformat_minor": 5
}
