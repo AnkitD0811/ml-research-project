{
 "cells": [
  {
   "cell_type": "markdown",
   "id": "87ff82f9-a655-4c7b-a165-8af9991ca41e",
   "metadata": {},
   "source": [
    "# Types of Images"
   ]
  },
  {
   "cell_type": "markdown",
   "id": "87a21fc4-de36-45a4-b451-50044c886146",
   "metadata": {},
   "source": [
    "## Binary"
   ]
  },
  {
   "cell_type": "markdown",
   "id": "8a06bf04-f917-4f13-a264-4f23a2652407",
   "metadata": {},
   "source": [
    "- This is the most basic type of digital image.\n",
    "- It is also sometimes called a 1-bit image.\n",
    "- Each pixel here represents one of 2 colors - black or white.\n",
    "- Black is represented by a '0' and white is represented by a '1'.\n",
    "- Binary Images are mostly used for applications where only the general outline/silhouette is required and no additional information is needed. For example, optical character recognition(OCR) uses binary images."
   ]
  },
  {
   "cell_type": "markdown",
   "id": "59741213-ad3a-4a26-a5f4-d6c0708bb6b8",
   "metadata": {},
   "source": [
    "## Greyscale"
   ]
  },
  {
   "cell_type": "markdown",
   "id": "852d9f8d-110b-4ec3-9814-52acfbbb37aa",
   "metadata": {},
   "source": [
    "- It is also called a monochrome or a 1-color image.\n",
    "- Each pixel can represent a number of grey colors.\n",
    "- The number of grey levels depends on the number of bits used to save color information per pixel. For example, if each pixel uses 8 bits, then it can show upto 2^8 or 256 different levels.\n",
    "- Normally 8, 12, or 16 bits per pixel is used.\n",
    "- Greyscale images provide more detail compared to binary images and the different grey levels help discern details when the image is zoomed in.\n",
    "- Greyscale images are mostly used in medical imaging and space science."
   ]
  },
  {
   "cell_type": "markdown",
   "id": "45651a22-e7f5-4aea-ba0f-177753dfc968",
   "metadata": {},
   "source": [
    "## Color"
   ]
  },
  {
   "cell_type": "markdown",
   "id": "d85c6e20-ff3b-4a4e-a21c-e524c57580a7",
   "metadata": {},
   "source": [
    "- These are 3-band monochrome image data, where each band represents a different color.\n",
    "- - Red, Green, Blue(RGB)\n",
    "  - Cyan, Magenta, Yellow(CMY)\n",
    "  - Hue, Saturation, Value(HSV)\n",
    "  - Color Infrared (NIR, R, G)\n",
    "  - False Color\n",
    "- They can be more than 3 bands as well, for example, CMYK(Cyan, Magenta, Yellow, Black) used mainly for printing purposes, or RGBA(Red, Green, Blue, Alpha).\n",
    "- Typically, per pixel, each band takes up 8 bits. Therefore 24 bits per pixel is used to store color information. The combination of these 3 colors represents the final color of the pixel.\n",
    "- 256 * 256 * 256 different combinations are possible."
   ]
  },
  {
   "cell_type": "markdown",
   "id": "e70d92c1-4b76-4326-a854-0f27d1f6de51",
   "metadata": {},
   "source": [
    "## Multispectral"
   ]
  },
  {
   "cell_type": "markdown",
   "id": "73c887fd-8552-43d4-90ca-a5735e5704a2",
   "metadata": {},
   "source": [
    "- Multispectral images are usually used to display data outside the human reach like UV, X-ray, IR, Radar, etc.\n",
    "- This information is represented in visual form by mapping the various values and spectral bands to RGB components."
   ]
  }
 ],
 "metadata": {
  "kernelspec": {
   "display_name": "Python 3 (ipykernel)",
   "language": "python",
   "name": "python3"
  },
  "language_info": {
   "codemirror_mode": {
    "name": "ipython",
    "version": 3
   },
   "file_extension": ".py",
   "mimetype": "text/x-python",
   "name": "python",
   "nbconvert_exporter": "python",
   "pygments_lexer": "ipython3",
   "version": "3.11.9"
  }
 },
 "nbformat": 4,
 "nbformat_minor": 5
}
