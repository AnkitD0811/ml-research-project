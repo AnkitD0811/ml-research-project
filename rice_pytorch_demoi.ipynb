{
 "cells": [
  {
   "cell_type": "markdown",
   "id": "cbf93559-d3ec-4c8b-8c2f-a761dc5e9275",
   "metadata": {},
   "source": [
    "# Rice Classification Using Pytorch(Pytorch Demo)"
   ]
  },
  {
   "cell_type": "markdown",
   "id": "9c720fa0-f4e6-4502-9d35-a8ad0e9631a0",
   "metadata": {},
   "source": [
    "## Importing Libraries, Downloading and Visualizing Data"
   ]
  },
  {
   "cell_type": "code",
   "execution_count": 1,
   "id": "daa989fc-4ddf-41d8-b818-ff14cc9ee16c",
   "metadata": {},
   "outputs": [
    {
     "name": "stdout",
     "output_type": "stream",
     "text": [
      "Please provide your Kaggle credentials to download this dataset. Learn more: http://bit.ly/kaggle-creds\n",
      "Your Kaggle username:"
     ]
    },
    {
     "name": "stdin",
     "output_type": "stream",
     "text": [
      "  ankitdey0811\n"
     ]
    },
    {
     "name": "stdout",
     "output_type": "stream",
     "text": [
      "Your Kaggle Key:"
     ]
    },
    {
     "name": "stdin",
     "output_type": "stream",
     "text": [
      "  ········\n"
     ]
    },
    {
     "name": "stdout",
     "output_type": "stream",
     "text": [
      "Dataset URL: https://www.kaggle.com/datasets/mssmartypants/rice-type-classification\n",
      "Downloading rice-type-classification.zip to .\\rice-type-classification\n"
     ]
    },
    {
     "name": "stderr",
     "output_type": "stream",
     "text": [
      "100%|████████████████████████████████████████████████████████████████████████████████████████████████████████████████████████████████████████| 888k/888k [00:00<00:00, 209MB/s]"
     ]
    },
    {
     "name": "stdout",
     "output_type": "stream",
     "text": [
      "\n"
     ]
    },
    {
     "name": "stderr",
     "output_type": "stream",
     "text": [
      "\n"
     ]
    }
   ],
   "source": [
    "# Getting the dataset\n",
    "\n",
    "import opendatasets as od\n",
    "\n",
    "od.download('https://www.kaggle.com/datasets/mssmartypants/rice-type-classification')"
   ]
  },
  {
   "cell_type": "code",
   "execution_count": 2,
   "id": "ccde9dd1-a130-4665-89c3-01bc2b11692d",
   "metadata": {},
   "outputs": [],
   "source": [
    "# Importing all libraries\n",
    "\n",
    "import torch\n",
    "import torch.nn as nn\n",
    "from torch.optim import Adam\n",
    "from torch.utils.data import Dataset, DataLoader\n",
    "from torchsummary import summary\n",
    "from sklearn.model_selection import train_test_split\n",
    "from sklearn.metrics import accuracy_score\n",
    "import matplotlib.pyplot as plt\n",
    "import pandas as pd\n",
    "import numpy as np\n",
    "\n",
    "device = 'cuda' if torch.cuda.is_available() else 'cpu'"
   ]
  },
  {
   "cell_type": "code",
   "execution_count": 3,
   "id": "4729c5bd-ef05-4cad-979d-6ef50f1e6891",
   "metadata": {},
   "outputs": [
    {
     "name": "stdout",
     "output_type": "stream",
     "text": [
      "cuda\n"
     ]
    }
   ],
   "source": [
    "# Check if GPU is recognized or not\n",
    "\n",
    "print(device)"
   ]
  },
  {
   "cell_type": "code",
   "execution_count": 4,
   "id": "ade00e93-bc3a-44a1-a8a3-17a562307e8e",
   "metadata": {},
   "outputs": [
    {
     "data": {
      "text/html": [
       "<div>\n",
       "<style scoped>\n",
       "    .dataframe tbody tr th:only-of-type {\n",
       "        vertical-align: middle;\n",
       "    }\n",
       "\n",
       "    .dataframe tbody tr th {\n",
       "        vertical-align: top;\n",
       "    }\n",
       "\n",
       "    .dataframe thead th {\n",
       "        text-align: right;\n",
       "    }\n",
       "</style>\n",
       "<table border=\"1\" class=\"dataframe\">\n",
       "  <thead>\n",
       "    <tr style=\"text-align: right;\">\n",
       "      <th></th>\n",
       "      <th>id</th>\n",
       "      <th>Area</th>\n",
       "      <th>MajorAxisLength</th>\n",
       "      <th>MinorAxisLength</th>\n",
       "      <th>Eccentricity</th>\n",
       "      <th>ConvexArea</th>\n",
       "      <th>EquivDiameter</th>\n",
       "      <th>Extent</th>\n",
       "      <th>Perimeter</th>\n",
       "      <th>Roundness</th>\n",
       "      <th>AspectRation</th>\n",
       "      <th>Class</th>\n",
       "    </tr>\n",
       "  </thead>\n",
       "  <tbody>\n",
       "    <tr>\n",
       "      <th>0</th>\n",
       "      <td>1</td>\n",
       "      <td>4537</td>\n",
       "      <td>92.229316</td>\n",
       "      <td>64.012769</td>\n",
       "      <td>0.719916</td>\n",
       "      <td>4677</td>\n",
       "      <td>76.004525</td>\n",
       "      <td>0.657536</td>\n",
       "      <td>273.085</td>\n",
       "      <td>0.764510</td>\n",
       "      <td>1.440796</td>\n",
       "      <td>1</td>\n",
       "    </tr>\n",
       "    <tr>\n",
       "      <th>1</th>\n",
       "      <td>2</td>\n",
       "      <td>2872</td>\n",
       "      <td>74.691881</td>\n",
       "      <td>51.400454</td>\n",
       "      <td>0.725553</td>\n",
       "      <td>3015</td>\n",
       "      <td>60.471018</td>\n",
       "      <td>0.713009</td>\n",
       "      <td>208.317</td>\n",
       "      <td>0.831658</td>\n",
       "      <td>1.453137</td>\n",
       "      <td>1</td>\n",
       "    </tr>\n",
       "    <tr>\n",
       "      <th>2</th>\n",
       "      <td>3</td>\n",
       "      <td>3048</td>\n",
       "      <td>76.293164</td>\n",
       "      <td>52.043491</td>\n",
       "      <td>0.731211</td>\n",
       "      <td>3132</td>\n",
       "      <td>62.296341</td>\n",
       "      <td>0.759153</td>\n",
       "      <td>210.012</td>\n",
       "      <td>0.868434</td>\n",
       "      <td>1.465950</td>\n",
       "      <td>1</td>\n",
       "    </tr>\n",
       "    <tr>\n",
       "      <th>3</th>\n",
       "      <td>4</td>\n",
       "      <td>3073</td>\n",
       "      <td>77.033628</td>\n",
       "      <td>51.928487</td>\n",
       "      <td>0.738639</td>\n",
       "      <td>3157</td>\n",
       "      <td>62.551300</td>\n",
       "      <td>0.783529</td>\n",
       "      <td>210.657</td>\n",
       "      <td>0.870203</td>\n",
       "      <td>1.483456</td>\n",
       "      <td>1</td>\n",
       "    </tr>\n",
       "    <tr>\n",
       "      <th>4</th>\n",
       "      <td>5</td>\n",
       "      <td>3693</td>\n",
       "      <td>85.124785</td>\n",
       "      <td>56.374021</td>\n",
       "      <td>0.749282</td>\n",
       "      <td>3802</td>\n",
       "      <td>68.571668</td>\n",
       "      <td>0.769375</td>\n",
       "      <td>230.332</td>\n",
       "      <td>0.874743</td>\n",
       "      <td>1.510000</td>\n",
       "      <td>1</td>\n",
       "    </tr>\n",
       "  </tbody>\n",
       "</table>\n",
       "</div>"
      ],
      "text/plain": [
       "   id  Area  MajorAxisLength  MinorAxisLength  Eccentricity  ConvexArea  \\\n",
       "0   1  4537        92.229316        64.012769      0.719916        4677   \n",
       "1   2  2872        74.691881        51.400454      0.725553        3015   \n",
       "2   3  3048        76.293164        52.043491      0.731211        3132   \n",
       "3   4  3073        77.033628        51.928487      0.738639        3157   \n",
       "4   5  3693        85.124785        56.374021      0.749282        3802   \n",
       "\n",
       "   EquivDiameter    Extent  Perimeter  Roundness  AspectRation  Class  \n",
       "0      76.004525  0.657536    273.085   0.764510      1.440796      1  \n",
       "1      60.471018  0.713009    208.317   0.831658      1.453137      1  \n",
       "2      62.296341  0.759153    210.012   0.868434      1.465950      1  \n",
       "3      62.551300  0.783529    210.657   0.870203      1.483456      1  \n",
       "4      68.571668  0.769375    230.332   0.874743      1.510000      1  "
      ]
     },
     "execution_count": 4,
     "metadata": {},
     "output_type": "execute_result"
    }
   ],
   "source": [
    "# Visualizing the dataset\n",
    "\n",
    "data_df = pd.read_csv(\"datasets/riceClassification.csv\")\n",
    "data_df.head()"
   ]
  },
  {
   "cell_type": "markdown",
   "id": "ad1295c5-1cb1-42b2-9a54-0c5751071a4f",
   "metadata": {},
   "source": [
    "- The ID column is irrelevant for our purpose.\n",
    "- Also, for our purpose let us remove all columns with empty values."
   ]
  },
  {
   "cell_type": "code",
   "execution_count": 5,
   "id": "2b9a13ed-e140-410a-b29f-eae8c7934c5b",
   "metadata": {},
   "outputs": [],
   "source": [
    "# Primitive Data Preprocessing\n",
    "\n",
    "data_df.dropna(inplace=True)\n",
    "data_df.drop([\"id\"], axis = 1, inplace=True)"
   ]
  },
  {
   "cell_type": "code",
   "execution_count": 6,
   "id": "a22aa28c-040d-4a97-a610-15b801f89ae1",
   "metadata": {},
   "outputs": [
    {
     "data": {
      "text/html": [
       "<div>\n",
       "<style scoped>\n",
       "    .dataframe tbody tr th:only-of-type {\n",
       "        vertical-align: middle;\n",
       "    }\n",
       "\n",
       "    .dataframe tbody tr th {\n",
       "        vertical-align: top;\n",
       "    }\n",
       "\n",
       "    .dataframe thead th {\n",
       "        text-align: right;\n",
       "    }\n",
       "</style>\n",
       "<table border=\"1\" class=\"dataframe\">\n",
       "  <thead>\n",
       "    <tr style=\"text-align: right;\">\n",
       "      <th></th>\n",
       "      <th>Area</th>\n",
       "      <th>MajorAxisLength</th>\n",
       "      <th>MinorAxisLength</th>\n",
       "      <th>Eccentricity</th>\n",
       "      <th>ConvexArea</th>\n",
       "      <th>EquivDiameter</th>\n",
       "      <th>Extent</th>\n",
       "      <th>Perimeter</th>\n",
       "      <th>Roundness</th>\n",
       "      <th>AspectRation</th>\n",
       "      <th>Class</th>\n",
       "    </tr>\n",
       "  </thead>\n",
       "  <tbody>\n",
       "    <tr>\n",
       "      <th>0</th>\n",
       "      <td>4537</td>\n",
       "      <td>92.229316</td>\n",
       "      <td>64.012769</td>\n",
       "      <td>0.719916</td>\n",
       "      <td>4677</td>\n",
       "      <td>76.004525</td>\n",
       "      <td>0.657536</td>\n",
       "      <td>273.085</td>\n",
       "      <td>0.764510</td>\n",
       "      <td>1.440796</td>\n",
       "      <td>1</td>\n",
       "    </tr>\n",
       "    <tr>\n",
       "      <th>1</th>\n",
       "      <td>2872</td>\n",
       "      <td>74.691881</td>\n",
       "      <td>51.400454</td>\n",
       "      <td>0.725553</td>\n",
       "      <td>3015</td>\n",
       "      <td>60.471018</td>\n",
       "      <td>0.713009</td>\n",
       "      <td>208.317</td>\n",
       "      <td>0.831658</td>\n",
       "      <td>1.453137</td>\n",
       "      <td>1</td>\n",
       "    </tr>\n",
       "    <tr>\n",
       "      <th>2</th>\n",
       "      <td>3048</td>\n",
       "      <td>76.293164</td>\n",
       "      <td>52.043491</td>\n",
       "      <td>0.731211</td>\n",
       "      <td>3132</td>\n",
       "      <td>62.296341</td>\n",
       "      <td>0.759153</td>\n",
       "      <td>210.012</td>\n",
       "      <td>0.868434</td>\n",
       "      <td>1.465950</td>\n",
       "      <td>1</td>\n",
       "    </tr>\n",
       "    <tr>\n",
       "      <th>3</th>\n",
       "      <td>3073</td>\n",
       "      <td>77.033628</td>\n",
       "      <td>51.928487</td>\n",
       "      <td>0.738639</td>\n",
       "      <td>3157</td>\n",
       "      <td>62.551300</td>\n",
       "      <td>0.783529</td>\n",
       "      <td>210.657</td>\n",
       "      <td>0.870203</td>\n",
       "      <td>1.483456</td>\n",
       "      <td>1</td>\n",
       "    </tr>\n",
       "    <tr>\n",
       "      <th>4</th>\n",
       "      <td>3693</td>\n",
       "      <td>85.124785</td>\n",
       "      <td>56.374021</td>\n",
       "      <td>0.749282</td>\n",
       "      <td>3802</td>\n",
       "      <td>68.571668</td>\n",
       "      <td>0.769375</td>\n",
       "      <td>230.332</td>\n",
       "      <td>0.874743</td>\n",
       "      <td>1.510000</td>\n",
       "      <td>1</td>\n",
       "    </tr>\n",
       "  </tbody>\n",
       "</table>\n",
       "</div>"
      ],
      "text/plain": [
       "   Area  MajorAxisLength  MinorAxisLength  Eccentricity  ConvexArea  \\\n",
       "0  4537        92.229316        64.012769      0.719916        4677   \n",
       "1  2872        74.691881        51.400454      0.725553        3015   \n",
       "2  3048        76.293164        52.043491      0.731211        3132   \n",
       "3  3073        77.033628        51.928487      0.738639        3157   \n",
       "4  3693        85.124785        56.374021      0.749282        3802   \n",
       "\n",
       "   EquivDiameter    Extent  Perimeter  Roundness  AspectRation  Class  \n",
       "0      76.004525  0.657536    273.085   0.764510      1.440796      1  \n",
       "1      60.471018  0.713009    208.317   0.831658      1.453137      1  \n",
       "2      62.296341  0.759153    210.012   0.868434      1.465950      1  \n",
       "3      62.551300  0.783529    210.657   0.870203      1.483456      1  \n",
       "4      68.571668  0.769375    230.332   0.874743      1.510000      1  "
      ]
     },
     "execution_count": 6,
     "metadata": {},
     "output_type": "execute_result"
    }
   ],
   "source": [
    "data_df.head()"
   ]
  },
  {
   "cell_type": "code",
   "execution_count": 7,
   "id": "72ef6817-0094-4226-a0a0-7bbe2fe18ef8",
   "metadata": {},
   "outputs": [
    {
     "name": "stdout",
     "output_type": "stream",
     "text": [
      "(18185, 11)\n"
     ]
    }
   ],
   "source": [
    "print(data_df.shape)"
   ]
  },
  {
   "cell_type": "markdown",
   "id": "f8820338-ffb1-4807-9e95-594456c013cc",
   "metadata": {},
   "source": [
    "## Data Preprocessing"
   ]
  },
  {
   "cell_type": "code",
   "execution_count": 8,
   "id": "812dafda-334b-449b-9a86-bd0d6283f89b",
   "metadata": {},
   "outputs": [],
   "source": [
    "original_df = data_df.copy() # Creating a copy of the original Dataframe to use to normalize inference\n",
    "\n",
    "for column in data_df.columns:\n",
    "    data_df[column] = data_df[column]/data_df[column].abs().max()"
   ]
  },
  {
   "cell_type": "code",
   "execution_count": 9,
   "id": "a3d72c1a-06d0-45a7-8e2e-8e87dd31a3ea",
   "metadata": {},
   "outputs": [
    {
     "data": {
      "text/html": [
       "<div>\n",
       "<style scoped>\n",
       "    .dataframe tbody tr th:only-of-type {\n",
       "        vertical-align: middle;\n",
       "    }\n",
       "\n",
       "    .dataframe tbody tr th {\n",
       "        vertical-align: top;\n",
       "    }\n",
       "\n",
       "    .dataframe thead th {\n",
       "        text-align: right;\n",
       "    }\n",
       "</style>\n",
       "<table border=\"1\" class=\"dataframe\">\n",
       "  <thead>\n",
       "    <tr style=\"text-align: right;\">\n",
       "      <th></th>\n",
       "      <th>Area</th>\n",
       "      <th>MajorAxisLength</th>\n",
       "      <th>MinorAxisLength</th>\n",
       "      <th>Eccentricity</th>\n",
       "      <th>ConvexArea</th>\n",
       "      <th>EquivDiameter</th>\n",
       "      <th>Extent</th>\n",
       "      <th>Perimeter</th>\n",
       "      <th>Roundness</th>\n",
       "      <th>AspectRation</th>\n",
       "      <th>Class</th>\n",
       "    </tr>\n",
       "  </thead>\n",
       "  <tbody>\n",
       "    <tr>\n",
       "      <th>0</th>\n",
       "      <td>0.444368</td>\n",
       "      <td>0.503404</td>\n",
       "      <td>0.775435</td>\n",
       "      <td>0.744658</td>\n",
       "      <td>0.424873</td>\n",
       "      <td>0.666610</td>\n",
       "      <td>0.741661</td>\n",
       "      <td>0.537029</td>\n",
       "      <td>0.844997</td>\n",
       "      <td>0.368316</td>\n",
       "      <td>1.0</td>\n",
       "    </tr>\n",
       "    <tr>\n",
       "      <th>1</th>\n",
       "      <td>0.281293</td>\n",
       "      <td>0.407681</td>\n",
       "      <td>0.622653</td>\n",
       "      <td>0.750489</td>\n",
       "      <td>0.273892</td>\n",
       "      <td>0.530370</td>\n",
       "      <td>0.804230</td>\n",
       "      <td>0.409661</td>\n",
       "      <td>0.919215</td>\n",
       "      <td>0.371471</td>\n",
       "      <td>1.0</td>\n",
       "    </tr>\n",
       "    <tr>\n",
       "      <th>2</th>\n",
       "      <td>0.298531</td>\n",
       "      <td>0.416421</td>\n",
       "      <td>0.630442</td>\n",
       "      <td>0.756341</td>\n",
       "      <td>0.284520</td>\n",
       "      <td>0.546380</td>\n",
       "      <td>0.856278</td>\n",
       "      <td>0.412994</td>\n",
       "      <td>0.959862</td>\n",
       "      <td>0.374747</td>\n",
       "      <td>1.0</td>\n",
       "    </tr>\n",
       "    <tr>\n",
       "      <th>3</th>\n",
       "      <td>0.300979</td>\n",
       "      <td>0.420463</td>\n",
       "      <td>0.629049</td>\n",
       "      <td>0.764024</td>\n",
       "      <td>0.286791</td>\n",
       "      <td>0.548616</td>\n",
       "      <td>0.883772</td>\n",
       "      <td>0.414262</td>\n",
       "      <td>0.961818</td>\n",
       "      <td>0.379222</td>\n",
       "      <td>1.0</td>\n",
       "    </tr>\n",
       "    <tr>\n",
       "      <th>4</th>\n",
       "      <td>0.361704</td>\n",
       "      <td>0.464626</td>\n",
       "      <td>0.682901</td>\n",
       "      <td>0.775033</td>\n",
       "      <td>0.345385</td>\n",
       "      <td>0.601418</td>\n",
       "      <td>0.867808</td>\n",
       "      <td>0.452954</td>\n",
       "      <td>0.966836</td>\n",
       "      <td>0.386007</td>\n",
       "      <td>1.0</td>\n",
       "    </tr>\n",
       "  </tbody>\n",
       "</table>\n",
       "</div>"
      ],
      "text/plain": [
       "       Area  MajorAxisLength  MinorAxisLength  Eccentricity  ConvexArea  \\\n",
       "0  0.444368         0.503404         0.775435      0.744658    0.424873   \n",
       "1  0.281293         0.407681         0.622653      0.750489    0.273892   \n",
       "2  0.298531         0.416421         0.630442      0.756341    0.284520   \n",
       "3  0.300979         0.420463         0.629049      0.764024    0.286791   \n",
       "4  0.361704         0.464626         0.682901      0.775033    0.345385   \n",
       "\n",
       "   EquivDiameter    Extent  Perimeter  Roundness  AspectRation  Class  \n",
       "0       0.666610  0.741661   0.537029   0.844997      0.368316    1.0  \n",
       "1       0.530370  0.804230   0.409661   0.919215      0.371471    1.0  \n",
       "2       0.546380  0.856278   0.412994   0.959862      0.374747    1.0  \n",
       "3       0.548616  0.883772   0.414262   0.961818      0.379222    1.0  \n",
       "4       0.601418  0.867808   0.452954   0.966836      0.386007    1.0  "
      ]
     },
     "execution_count": 9,
     "metadata": {},
     "output_type": "execute_result"
    }
   ],
   "source": [
    "data_df.head()"
   ]
  },
  {
   "cell_type": "markdown",
   "id": "7a219b79-f99b-465d-8e26-c15bc729f20e",
   "metadata": {},
   "source": [
    "### Data Splitting"
   ]
  },
  {
   "cell_type": "code",
   "execution_count": 10,
   "id": "79244ae1-fffb-45e4-960f-5725f6d43c60",
   "metadata": {},
   "outputs": [],
   "source": [
    "X = np.array(data_df.iloc[:, :-1])\n",
    "y = np.array(data_df.iloc[:, -1])\n",
    "\n",
    "# Train = 70%, Test & Val = 15%\n",
    "X_train, X_test, y_train, y_test = train_test_split(X, y, test_size = 0.3)\n",
    "X_test, X_val, y_test, y_val = train_test_split(X_test, y_test, test_size = 0.5)"
   ]
  },
  {
   "cell_type": "code",
   "execution_count": 11,
   "id": "34eac6de-2a80-42a1-a1aa-762ee2e8f1d1",
   "metadata": {},
   "outputs": [
    {
     "name": "stdout",
     "output_type": "stream",
     "text": [
      "(12729, 10)\n",
      "(2728, 10)\n",
      "(2728, 10)\n"
     ]
    }
   ],
   "source": [
    "print(X_train.shape)\n",
    "print(X_test.shape)\n",
    "print(X_val.shape)"
   ]
  },
  {
   "cell_type": "markdown",
   "id": "3456a428-4067-41d8-9dde-d1f2a52f10a9",
   "metadata": {},
   "source": [
    "## Building Model & Training"
   ]
  },
  {
   "cell_type": "code",
   "execution_count": 12,
   "id": "0db25471-2c02-4708-a01e-a8e024f498ec",
   "metadata": {},
   "outputs": [],
   "source": [
    "# Creating a dataset\n",
    "\n",
    "class dataset(Dataset): # Inherits the Dataset class from torch\n",
    "\n",
    "    # Constructor\n",
    "    def __init__(self, X, y):\n",
    "        self.X = torch.tensor(X, dtype = torch.float32).to(device)\n",
    "        self.Y = torch.tensor(y, dtype = torch.float32).to(device)\n",
    "\n",
    "    # Custom overriden helper functions\n",
    "    def __len__(self):\n",
    "        return len(self.X)\n",
    "\n",
    "    def __getitem__(self, index):\n",
    "        return self.X[index], self.Y[index]\n",
    "\n",
    "# Creating our train, test, val datasets as objects\n",
    "train_data = dataset(X_train, y_train)\n",
    "test_data = dataset(X_test, y_test)\n",
    "val_data = dataset(X_val, y_val)"
   ]
  },
  {
   "cell_type": "code",
   "execution_count": 13,
   "id": "259fb490-4202-43fd-b0c1-f067229b427a",
   "metadata": {},
   "outputs": [],
   "source": [
    "# Deciding hyperparameters\n",
    "\n",
    "BATCH_SIZE = 32\n",
    "EPOCHS = 10\n",
    "HIDDEN_NEURONS = 10\n",
    "LEARNING_RATE = 1e-3"
   ]
  },
  {
   "cell_type": "code",
   "execution_count": 14,
   "id": "c7f1acaf-486b-41ac-8827-391784d41dc8",
   "metadata": {},
   "outputs": [],
   "source": [
    "# Using dataloaders to actually load data batch wise onto the gpu\n",
    "\n",
    "train_dataloader = DataLoader(train_data, batch_size = BATCH_SIZE, shuffle = True)\n",
    "test_dataloader = DataLoader(test_data, batch_size = BATCH_SIZE, shuffle = True)\n",
    "val_dataloader = DataLoader(val_data, batch_size = BATCH_SIZE, shuffle = True)\n"
   ]
  },
  {
   "cell_type": "code",
   "execution_count": 15,
   "id": "01a0eb9d-3038-48ec-ac51-eb29e5d3baa1",
   "metadata": {},
   "outputs": [],
   "source": [
    "# Modeling our Neural Network\n",
    "\n",
    "class MyModel(nn.Module):\n",
    "\n",
    "    def __init__(self):\n",
    "\n",
    "        super(MyModel, self).__init__()\n",
    "\n",
    "        self.input_layer = nn.Linear(X.shape[1], HIDDEN_NEURONS) # ip neurons, op neurons\n",
    "        self.linear = nn.Linear(HIDDEN_NEURONS, 1)\n",
    "        self.sigmoid = nn.Sigmoid()\n",
    "\n",
    "    # Forward Prop\n",
    "    def forward(self, x):\n",
    "        x = self.input_layer(x)\n",
    "        x = self.linear(x)\n",
    "        x = self.sigmoid(x)\n",
    "        return x\n"
   ]
  },
  {
   "cell_type": "code",
   "execution_count": 16,
   "id": "86dc093a-09f1-4215-ad84-128eba9c54b6",
   "metadata": {},
   "outputs": [
    {
     "name": "stdout",
     "output_type": "stream",
     "text": [
      "----------------------------------------------------------------\n",
      "        Layer (type)               Output Shape         Param #\n",
      "================================================================\n",
      "            Linear-1                   [-1, 10]             110\n",
      "            Linear-2                    [-1, 1]              11\n",
      "           Sigmoid-3                    [-1, 1]               0\n",
      "================================================================\n",
      "Total params: 121\n",
      "Trainable params: 121\n",
      "Non-trainable params: 0\n",
      "----------------------------------------------------------------\n",
      "Input size (MB): 0.00\n",
      "Forward/backward pass size (MB): 0.00\n",
      "Params size (MB): 0.00\n",
      "Estimated Total Size (MB): 0.00\n",
      "----------------------------------------------------------------\n"
     ]
    }
   ],
   "source": [
    "# Getting model summary\n",
    "\n",
    "model = MyModel().to(device)\n",
    "summary(model, (X.shape[1],))"
   ]
  },
  {
   "cell_type": "code",
   "execution_count": 17,
   "id": "10ad0ca7-4e28-4177-9bf3-87fc2f0ee938",
   "metadata": {},
   "outputs": [],
   "source": [
    "# Choosing loss and optimizer\n",
    "\n",
    "criterion = nn.BCELoss()\n",
    "optimizer = Adam(model.parameters(), lr = LEARNING_RATE)"
   ]
  },
  {
   "cell_type": "code",
   "execution_count": 18,
   "id": "cc915f6a-fb30-456d-87f3-242914632b15",
   "metadata": {},
   "outputs": [
    {
     "name": "stdout",
     "output_type": "stream",
     "text": [
      "Epoch 1:\n",
      "    Train Loss: 0.2540 Train Accuracy: 78.4665\n",
      "    Val Loss: 0.0459 Val Accuracy: 95.3446\n",
      "============================================================\n",
      "Epoch 2:\n",
      "    Train Loss: 0.1535 Train Accuracy: 97.3918\n",
      "    Val Loss: 0.0216 Val Accuracy: 97.8006\n",
      "============================================================\n",
      "Epoch 3:\n",
      "    Train Loss: 0.0710 Train Accuracy: 98.1145\n",
      "    Val Loss: 0.0113 Val Accuracy: 98.2038\n",
      "============================================================\n",
      "Epoch 4:\n",
      "    Train Loss: 0.0416 Train Accuracy: 98.3974\n",
      "    Val Loss: 0.0076 Val Accuracy: 98.4971\n",
      "============================================================\n",
      "Epoch 5:\n",
      "    Train Loss: 0.0303 Train Accuracy: 98.5859\n",
      "    Val Loss: 0.0061 Val Accuracy: 98.6437\n",
      "============================================================\n",
      "Epoch 6:\n",
      "    Train Loss: 0.0248 Train Accuracy: 98.5938\n",
      "    Val Loss: 0.0053 Val Accuracy: 98.4604\n",
      "============================================================\n",
      "Epoch 7:\n",
      "    Train Loss: 0.0218 Train Accuracy: 98.6330\n",
      "    Val Loss: 0.0047 Val Accuracy: 98.6804\n",
      "============================================================\n",
      "Epoch 8:\n",
      "    Train Loss: 0.0200 Train Accuracy: 98.5781\n",
      "    Val Loss: 0.0046 Val Accuracy: 98.6804\n",
      "============================================================\n",
      "Epoch 9:\n",
      "    Train Loss: 0.0187 Train Accuracy: 98.6330\n",
      "    Val Loss: 0.0043 Val Accuracy: 98.6437\n",
      "============================================================\n",
      "Epoch 10:\n",
      "    Train Loss: 0.0180 Train Accuracy: 98.6802\n",
      "    Val Loss: 0.0043 Val Accuracy: 98.6804\n",
      "============================================================\n"
     ]
    }
   ],
   "source": [
    "# Training Loop\n",
    "\n",
    "total_loss_train_plot = []\n",
    "total_loss_val_plot = []\n",
    "total_acc_train_plot = []\n",
    "total_acc_val_plot = []\n",
    "\n",
    "for epoch in range(EPOCHS):\n",
    "    total_acc_train_epoch = 0\n",
    "    total_loss_train_epoch = 0\n",
    "    total_acc_val_epoch = 0\n",
    "    total_loss_val_epoch = 0\n",
    "\n",
    "    # Training Loop\n",
    "    for data in train_dataloader:\n",
    "        inputs, labels = data\n",
    "        pred = model(inputs).squeeze(1)\n",
    "        batch_loss = criterion(pred, labels)\n",
    "        total_loss_train_epoch += batch_loss.item()\n",
    "        acc = ((pred).round() == labels).sum().item()\n",
    "        total_acc_train_epoch += acc\n",
    "\n",
    "        batch_loss.backward()\n",
    "        optimizer.step()\n",
    "        optimizer.zero_grad()\n",
    "\n",
    "    # For validation claculation\n",
    "    with torch.no_grad(): # Disable gradient computation\n",
    "        for data in val_dataloader:\n",
    "            inputs, labels = data\n",
    "            pred = model(inputs).squeeze(1)\n",
    "            batch_loss = criterion(pred, labels)\n",
    "            total_loss_val_epoch += batch_loss.item()\n",
    "            acc = ((pred).round() == labels).sum().item()\n",
    "            total_acc_val_epoch += acc\n",
    "\n",
    "    total_loss_train_plot.append(round(total_loss_train_epoch / 1000, 4))\n",
    "    total_loss_val_plot.append(round(total_loss_val_epoch / 1000, 4))\n",
    "    total_acc_train_plot.append(round(total_acc_train_epoch / (train_data.__len__()) * 100, 4))\n",
    "    total_acc_val_plot.append(round(total_acc_val_epoch / val_data.__len__() * 100, 4))\n",
    "\n",
    "    print(f'''Epoch {epoch + 1}:\n",
    "    Train Loss: {total_loss_train_epoch / 1000:.4f} Train Accuracy: {total_acc_train_epoch / (train_data.__len__()) * 100:.4f}\n",
    "    Val Loss: {total_loss_val_epoch / 1000:.4f} Val Accuracy: {total_acc_val_epoch / (val_data.__len__()) * 100:.4f}''')\n",
    "    print(\"=\"*60)\n",
    "\n"
   ]
  },
  {
   "cell_type": "markdown",
   "id": "3ebeff84-b41a-4bf0-b719-c66ad4add45c",
   "metadata": {},
   "source": [
    "## Testing & Plotting"
   ]
  },
  {
   "cell_type": "code",
   "execution_count": 19,
   "id": "6602fdf2-0813-4b9e-b18f-8bd89aed36a4",
   "metadata": {},
   "outputs": [
    {
     "name": "stdout",
     "output_type": "stream",
     "text": [
      "Accuracy Score is: 98.5%\n"
     ]
    }
   ],
   "source": [
    "\n",
    "with torch.no_grad():\n",
    "    total_loss_test = 0\n",
    "    total_acc_test = 0\n",
    "    for data in test_dataloader:\n",
    "        inputs, labels = data\n",
    "\n",
    "        prediction = model(inputs).squeeze(1)\n",
    "\n",
    "        batch_loss_test = criterion((prediction), labels)\n",
    "        total_loss_test += batch_loss_test.item()\n",
    "        acc = ((prediction).round() == labels).sum().item()\n",
    "        total_acc_test += acc\n",
    "\n",
    "print(f\"Accuracy Score is: {round((total_acc_test/X_test.shape[0])*100, 2)}%\")"
   ]
  },
  {
   "cell_type": "code",
   "execution_count": 20,
   "id": "b901bc8e-f72e-42ec-b36f-5082290ad80d",
   "metadata": {},
   "outputs": [
    {
     "data": {
      "image/png": "[encoded data removed]",
      "text/plain": [
       "<Figure size 1500x500 with 2 Axes>"
      ]
     },
     "metadata": {},
     "output_type": "display_data"
    }
   ],
   "source": [
    "\n",
    "\n",
    "fig, axs = plt.subplots(nrows=1, ncols=2, figsize=(15, 5))\n",
    "\n",
    "axs[0].plot(total_loss_train_plot, label='Training Loss')\n",
    "axs[0].plot(total_loss_val_plot, label='Validation Loss')\n",
    "axs[0].set_title('Training and Validation Loss over Epochs')\n",
    "axs[0].set_xlabel('Epochs')\n",
    "axs[0].set_ylabel('Loss')\n",
    "axs[0].set_ylim([0, 2])\n",
    "axs[0].legend()\n",
    "\n",
    "axs[1].plot(total_acc_train_plot, label='Training Accuracy')\n",
    "axs[1].plot(total_acc_val_plot, label='Validation Accuracy')\n",
    "axs[1].set_title('Training and Validation Accuracy over Epochs')\n",
    "axs[1].set_xlabel('Epochs')\n",
    "axs[1].set_ylabel('Accuracy')\n",
    "axs[1].set_ylim([0, 100])\n",
    "axs[1].legend()\n",
    "\n",
    "plt.tight_layout()\n",
    "\n",
    "plt.show()\n"
   ]
  },
  {
   "cell_type": "code",
   "execution_count": null,
   "id": "cabfc71f-658a-4e8f-bcfb-3315dc6ddb9a",
   "metadata": {},
   "outputs": [],
   "source": []
  },
  {
   "cell_type": "code",
   "execution_count": null,
   "id": "305dc800-0ab0-4b2f-9247-533fee7d9961",
   "metadata": {},
   "outputs": [],
   "source": []
  }
 ],
 "metadata": {
  "kernelspec": {
   "display_name": "Python 3 (ipykernel)",
   "language": "python",
   "name": "python3"
  },
  "language_info": {
   "codemirror_mode": {
    "name": "ipython",
    "version": 3
   },
   "file_extension": ".py",
   "mimetype": "text/x-python",
   "name": "python",
   "nbconvert_exporter": "python",
   "pygments_lexer": "ipython3",
   "version": "3.11.9"
  }
 },
 "nbformat": 4,
 "nbformat_minor": 5
}
