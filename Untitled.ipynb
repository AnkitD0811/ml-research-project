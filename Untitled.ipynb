{
 "cells": [
  {
   "cell_type": "markdown",
   "id": "38d754bb-d674-414e-a218-ac33d4e9eb0c",
   "metadata": {},
   "source": [
    "# PyTorch Demo With fast.ai"
   ]
  },
  {
   "cell_type": "markdown",
   "id": "a0bf0a58-a787-4435-9aba-0177ebbac01b",
   "metadata": {},
   "source": [
    "## Importing libraries and datasets"
   ]
  },
  {
   "cell_type": "code",
   "execution_count": 1,
   "id": "a80903f4-2d99-4aa7-b1b8-619b161b9c8a",
   "metadata": {},
   "outputs": [],
   "source": [
    "import fastbook\n",
    "from fastbook import *\n",
    "from fastai.vision.widgets import *"
   ]
  },
  {
   "cell_type": "code",
   "execution_count": null,
   "id": "46b85b4e-c35a-4090-b3bc-a601b1f36122",
   "metadata": {},
   "outputs": [],
   "source": []
  }
 ],
 "metadata": {
  "kernelspec": {
   "display_name": "Python 3 (ipykernel)",
   "language": "python",
   "name": "python3"
  },
  "language_info": {
   "codemirror_mode": {
    "name": "ipython",
    "version": 3
   },
   "file_extension": ".py",
   "mimetype": "text/x-python",
   "name": "python",
   "nbconvert_exporter": "python",
   "pygments_lexer": "ipython3",
   "version": "3.11.9"
  }
 },
 "nbformat": 4,
 "nbformat_minor": 5
}
